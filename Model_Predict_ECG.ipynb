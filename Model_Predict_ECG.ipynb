{
 "cells": [
  {
   "cell_type": "code",
   "execution_count": 1,
   "metadata": {},
   "outputs": [],
   "source": [
    "import joblib\n",
    "import numpy as np \n",
    "import warnings\n",
    "warnings.filterwarnings('ignore')"
   ]
  },
  {
   "cell_type": "code",
   "execution_count": 3,
   "metadata": {},
   "outputs": [],
   "source": [
    "def make_predictions(valid_data):\n",
    "\n",
    "    model = joblib.load(r\"C:\\Users\\harsh\\OneDrive\\Desktop\\ECG\\ECG_Model.pkl\")\n",
    "\n",
    "    print(f\"ECG Anamoly Prediction Probability : {int(model.predict(valid_df)*100)}%\")\n",
    "\n",
    "    predict_proba = int(model.predict(valid_df)* 100)\n",
    "    if (predict_proba>=80):\n",
    "        predict_str='1'\n",
    "    else:\n",
    "        predict_str='0'\n",
    "    return predict_str, predict_proba"
   ]
  },
  {
   "cell_type": "code",
   "execution_count": null,
   "metadata": {},
   "outputs": [],
   "source": []
  }
 ],
 "metadata": {
  "kernelspec": {
   "display_name": "Python 3",
   "language": "python",
   "name": "python3"
  },
  "language_info": {
   "codemirror_mode": {
    "name": "ipython",
    "version": 3
   },
   "file_extension": ".py",
   "mimetype": "text/x-python",
   "name": "python",
   "nbconvert_exporter": "python",
   "pygments_lexer": "ipython3",
   "version": "3.8.5"
  }
 },
 "nbformat": 4,
 "nbformat_minor": 4
}
