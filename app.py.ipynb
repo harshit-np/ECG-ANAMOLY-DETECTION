{
 "cells": [
  {
   "cell_type": "code",
   "execution_count": 1,
   "metadata": {},
   "outputs": [
    {
     "name": "stdout",
     "output_type": "stream",
     "text": [
      "Requirement already satisfied: flask in c:\\users\\harsh\\anaconda3\\lib\\site-packages (1.1.2)\n",
      "Requirement already satisfied: Jinja2>=2.10.1 in c:\\users\\harsh\\anaconda3\\lib\\site-packages (from flask) (2.11.2)\n",
      "Requirement already satisfied: click>=5.1 in c:\\users\\harsh\\anaconda3\\lib\\site-packages (from flask) (7.1.2)\n",
      "Requirement already satisfied: itsdangerous>=0.24 in c:\\users\\harsh\\anaconda3\\lib\\site-packages (from flask) (1.1.0)\n",
      "Requirement already satisfied: Werkzeug>=0.15 in c:\\users\\harsh\\anaconda3\\lib\\site-packages (from flask) (1.0.1)\n",
      "Requirement already satisfied: MarkupSafe>=0.23 in c:\\users\\harsh\\anaconda3\\lib\\site-packages (from Jinja2>=2.10.1->flask) (1.1.1)\n",
      "Note: you may need to restart the kernel to use updated packages.\n"
     ]
    }
   ],
   "source": [
    "pip install flask\n"
   ]
  },
  {
   "cell_type": "code",
   "execution_count": null,
   "metadata": {},
   "outputs": [],
   "source": [
    "from flask import Flask, render_template, request\n",
    "from model_predict import make_predictions\n",
    "\n",
    "app = Flask(__name__)\n",
    "app.config['UPLOAD_FOLDER'] = \"C:\\Users\\harsh\\Downloads\\ECG_ANAMOLY\"\n",
    "\n",
    "@app.route('/')\n",
    "def home_page():\n",
    "    return render_template('index.html')\n",
    "\n",
    "@app.route(\"/\", methods=['POST', 'GET'])\n",
    "def submitted():\n",
    "    if request.method == 'POST':\n",
    "        result = request.form\n",
    "        print(result)\n",
    "\n",
    "        predict_str, predict_proba = make_predictions(result)\n",
    "        if (predict_prob>=80):\n",
    "            out_str=\"Warning! You've some heart condition, seek medical help ASAP!\" \n",
    "        else :\n",
    "            out_str=\"FINE! Keep up with your regular heart health routine. \" \n",
    "                    \n",
    "        \n",
    "        return render_template(\"result.html\", predict_str =predict_str,predict_prob=predict_prob, out_str=out_str)\n",
    "\n",
    "if __name__ == '__main__':\n",
    "    app.run(debug=True)"
   ]
  }
 ],
 "metadata": {
  "kernelspec": {
   "display_name": "Python 3",
   "language": "python",
   "name": "python3"
  },
  "language_info": {
   "codemirror_mode": {
    "name": "ipython",
    "version": 3
   },
   "file_extension": ".py",
   "mimetype": "text/x-python",
   "name": "python",
   "nbconvert_exporter": "python",
   "pygments_lexer": "ipython3",
   "version": "3.8.5"
  }
 },
 "nbformat": 4,
 "nbformat_minor": 4
}
